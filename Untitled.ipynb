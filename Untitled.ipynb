{
 "cells": [
  {
   "cell_type": "markdown",
   "id": "7ac9ae1c-af3b-4b69-904b-382c3e3b0a4f",
   "metadata": {},
   "source": [
    "***Hello jupyter***"
   ]
  },
  {
   "cell_type": "code",
   "execution_count": null,
   "id": "1583bea0-d56c-434e-8cc6-9a953d163d57",
   "metadata": {},
   "outputs": [],
   "source": [
    "a = 11\n",
    "b = 12"
   ]
  },
  {
   "cell_type": "code",
   "execution_count": 3,
   "id": "d695177c-7e6c-41e8-9add-65197e3453ec",
   "metadata": {},
   "outputs": [
    {
     "data": {
      "text/plain": [
       "23"
      ]
     },
     "execution_count": 3,
     "metadata": {},
     "output_type": "execute_result"
    }
   ],
   "source": [
    "a + b"
   ]
  }
 ],
 "metadata": {
  "kernelspec": {
   "display_name": "Python 3 (ipykernel)",
   "language": "python",
   "name": "python3"
  },
  "language_info": {
   "codemirror_mode": {
    "name": "ipython",
    "version": 3
   },
   "file_extension": ".py",
   "mimetype": "text/x-python",
   "name": "python",
   "nbconvert_exporter": "python",
   "pygments_lexer": "ipython3",
   "version": "3.9.13"
  }
 },
 "nbformat": 4,
 "nbformat_minor": 5
}
